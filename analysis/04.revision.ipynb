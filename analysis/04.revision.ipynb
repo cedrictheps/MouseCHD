{
 "cells": [
  {
   "cell_type": "markdown",
   "metadata": {},
   "source": [
    "# Revision"
   ]
  },
  {
   "cell_type": "markdown",
   "metadata": {},
   "source": [
    "## Change Venn diagram"
   ]
  },
  {
   "cell_type": "markdown",
   "metadata": {},
   "source": [
    "### Prepare data for Venn plot"
   ]
  },
  {
   "cell_type": "code",
   "execution_count": 93,
   "metadata": {},
   "outputs": [],
   "source": [
    "import os\n",
    "import json\n",
    "import pandas as pd\n",
    "from mousechd.utils.analyzer import (load_metadata,\n",
    "                                     get_kingdom_df)\n",
    "\n",
    "HOME = os.environ.get(\"HOME\")\n",
    "DATADIR = f\"{HOME}/DATA/INCEPTION_2020-CHD/Mice/DATA/CTs\"\n",
    "EVALDIR = f\"{HOME}/DATA/INCEPTION_2020-CHD/Mice/PAPER/METADATA\"\n",
    "\n",
    "initial_df = load_metadata(f\"{DATADIR}/processed/Imagine/metadata_20210203.csv\")\n",
    "prospective_df = pd.read_csv(f\"{EVALDIR}/prospective.csv\")\n",
    "divergent_df = pd.read_csv(f\"{EVALDIR}/divergent.csv\")\n",
    "\n",
    "terms = pd.read_csv(f'{DATADIR}/raw/Imagine/metadata/terminology_20201217.csv', sep=';')\n",
    "terms[\"Kingdom\"] = terms[\"Kingdom\"].map({\"Septal Defects\": \"Septal defects\",\n",
    "                                         \"Atrial isomerism\": \"Atrial situs defects\"\n",
    "                                         }).fillna(terms[\"Kingdom\"])"
   ]
  },
  {
   "cell_type": "markdown",
   "metadata": {},
   "source": [
    "### Initial cohort"
   ]
  },
  {
   "cell_type": "code",
   "execution_count": 100,
   "metadata": {},
   "outputs": [],
   "source": [
    "kingdom_df = get_kingdom_df(terms, initial_df)\n",
    "kingdom_df = kingdom_df[kingdom_df[\"Normal heart\"]==0].drop(\"Normal heart\", axis=1)\n",
    "kingdom_df = kingdom_df[kingdom_df.sum(axis=1)!=0]\n",
    "diseases = kingdom_df.columns.tolist()\n",
    "\n",
    "result = {}\n",
    "for i, d in enumerate(diseases):\n",
    "    result[f\"({i+1}) {d}\"] = kingdom_df[kingdom_df[d]==1].index.tolist()\n",
    "\n",
    "json.dump(result, open(f\"{EVALDIR}/VennData_initial_cohort.json\", \"w\"), indent=4)\n"
   ]
  },
  {
   "cell_type": "markdown",
   "metadata": {},
   "source": [
    "### Prospective cohort"
   ]
  },
  {
   "cell_type": "code",
   "execution_count": 105,
   "metadata": {},
   "outputs": [],
   "source": [
    "kingdom_df = prospective_df[[\"heart_name\"] + diseases].set_index(\"heart_name\")\n",
    "\n",
    "result = {}\n",
    "for i, d in enumerate(diseases):\n",
    "    result[f\"({i+1}) {d}\"] = kingdom_df[kingdom_df[d]==1].index.tolist()\n",
    "\n",
    "json.dump(result, open(f\"{EVALDIR}/VennData_prospective_cohort.json\", \"w\"), indent=4)"
   ]
  },
  {
   "cell_type": "markdown",
   "metadata": {},
   "source": [
    "### Divergent cohort"
   ]
  },
  {
   "cell_type": "code",
   "execution_count": 112,
   "metadata": {},
   "outputs": [],
   "source": [
    "kingdom_df = divergent_df[[\"heart_name\"] + diseases + [\"Situs inversus totalis\"]].set_index(\"heart_name\")\n",
    "\n",
    "result = {}\n",
    "for i, d in enumerate(kingdom_df.columns):\n",
    "    result[f\"({i+1}) {d}\"] = kingdom_df[kingdom_df[d]==1].index.tolist()\n",
    "\n",
    "json.dump(result, open(f\"{EVALDIR}/VennData_divergent_cohort.json\", \"w\"), indent=4)"
   ]
  },
  {
   "cell_type": "code",
   "execution_count": null,
   "metadata": {},
   "outputs": [],
   "source": []
  }
 ],
 "metadata": {
  "kernelspec": {
   "display_name": "mousechd_napari",
   "language": "python",
   "name": "python3"
  },
  "language_info": {
   "codemirror_mode": {
    "name": "ipython",
    "version": 3
   },
   "file_extension": ".py",
   "mimetype": "text/x-python",
   "name": "python",
   "nbconvert_exporter": "python",
   "pygments_lexer": "ipython3",
   "version": "3.9.19"
  }
 },
 "nbformat": 4,
 "nbformat_minor": 2
}
